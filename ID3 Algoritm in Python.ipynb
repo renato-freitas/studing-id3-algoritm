{
 "cells": [
  {
   "cell_type": "code",
   "execution_count": 119,
   "metadata": {
    "collapsed": true
   },
   "outputs": [],
   "source": [
    "import numpy as np\n",
    "import pandas as pd\n",
    "import matplotlib.pyplot as plt\n",
    "from math import log\n",
    "from collections import Counter"
   ]
  },
  {
   "cell_type": "code",
   "execution_count": 120,
   "metadata": {
    "collapsed": true
   },
   "outputs": [],
   "source": [
    "attrib = {'outlook':0,'temperature':1,'humidity':2,'windy':3,'play soccer?':4}\n",
    "X = np.array([\n",
    "['sunny',85,85,'false','no'],\n",
    "['sunny',80,90,'true','no'],\n",
    "['overcast',83,78,'false','yes'],\n",
    "['ranny',70,96,'false','yes'],\n",
    "['ranny',68,80,'false','yes'],\n",
    "['ranny',65,70,'true','no'],\n",
    "['overcast',64,65,'true','yes'],\n",
    "['sunny',72,95,'false','no'],\n",
    "['sunny',69,70,'false','yes'],\n",
    "['ranny',75,80,'false','yes'],\n",
    "['sunny',75,70,'true','yes'],\n",
    "['overcast',72,90,'true','yes'],\n",
    "['overcast',81,75,'false','yes'],\n",
    "['ranny',71,80,'true','no']])"
   ]
  },
  {
   "cell_type": "code",
   "execution_count": 121,
   "metadata": {
    "collapsed": true
   },
   "outputs": [],
   "source": [
    "def media_attrib(atributo,X):\n",
    "    indice = attrib[atributo]\n",
    "    return np.sum(X[:,indice].astype(float))/len(X)"
   ]
  },
  {
   "cell_type": "code",
   "execution_count": 122,
   "metadata": {},
   "outputs": [
    {
     "data": {
      "text/plain": [
       "array([['sunny', 'maior', 'maior', 'false', 'no'],\n",
       "       ['sunny', 'maior', 'maior', 'true', 'no'],\n",
       "       ['overcast', 'maior', 'menor', 'false', 'yes'],\n",
       "       ['ranny', 'menor', 'maior', 'false', 'yes'],\n",
       "       ['ranny', 'menor', 'menor', 'false', 'yes'],\n",
       "       ['ranny', 'menor', 'menor', 'true', 'no'],\n",
       "       ['overcast', 'menor', 'menor', 'true', 'yes'],\n",
       "       ['sunny', 'menor', 'maior', 'false', 'no'],\n",
       "       ['sunny', 'menor', 'menor', 'false', 'yes'],\n",
       "       ['ranny', 'maior', 'menor', 'false', 'yes'],\n",
       "       ['sunny', 'maior', 'menor', 'true', 'yes'],\n",
       "       ['overcast', 'menor', 'maior', 'true', 'yes'],\n",
       "       ['overcast', 'maior', 'menor', 'false', 'yes'],\n",
       "       ['ranny', 'menor', 'menor', 'true', 'no']],\n",
       "      dtype='<U8')"
      ]
     },
     "execution_count": 122,
     "metadata": {},
     "output_type": "execute_result"
    }
   ],
   "source": [
    "def discretize(atributo, X):\n",
    "    indice = attrib[atributo]\n",
    "    media = media_attrib(atributo,X)\n",
    "    for linha in X:\n",
    "        if float(linha[indice]) <= media:\n",
    "            linha[indice] = \"menor\"\n",
    "        else:\n",
    "            linha[indice] = \"maior\"\n",
    "    return X\n",
    "discretize('temperature', X)  \n",
    "discretize('humidity', X)"
   ]
  },
  {
   "cell_type": "code",
   "execution_count": 123,
   "metadata": {
    "collapsed": true
   },
   "outputs": [],
   "source": [
    "log2 = lambda x:log(x)/log(2)\n",
    "HX = 0.0\n",
    "arvore = {}"
   ]
  },
  {
   "cell_type": "code",
   "execution_count": 124,
   "metadata": {
    "collapsed": true
   },
   "outputs": [],
   "source": [
    "def get_entropy(X):\n",
    "    freq = Counter(X[:,-1])\n",
    "    tam = len(X)\n",
    "    entropy = 0\n",
    "    for f in freq.values():\n",
    "        pi = f/tam\n",
    "        if pi > 0:\n",
    "            entropy -= pi * log2(pi)\n",
    "    return entropy"
   ]
  },
  {
   "cell_type": "code",
   "execution_count": 125,
   "metadata": {
    "collapsed": true
   },
   "outputs": [],
   "source": [
    "def get_entropy_attrib(atributo, X):\n",
    "    indice = attrib[atributo]\n",
    "    valores = Counter(X[:,indice])\n",
    "    #print('valores:{}'.format(valores))\n",
    "    soma, tam = 0, len(X)\n",
    "    #print('soma:{}\\ttam:{}'.format(soma,tam))\n",
    "    for valor, freq in valores.items():\n",
    "        pk = freq / tam\n",
    "        sub_conjunto = [linha for linha in X if linha[indice] == valor]\n",
    "        #print(sub_conjunto)\n",
    "        soma += pk * get_entropy(np.array(sub_conjunto))\n",
    "    return soma"
   ]
  },
  {
   "cell_type": "code",
   "execution_count": 127,
   "metadata": {},
   "outputs": [
    {
     "data": {
      "text/plain": [
       "0.9402859586706309"
      ]
     },
     "execution_count": 127,
     "metadata": {},
     "output_type": "execute_result"
    }
   ],
   "source": [
    "# Obter a entropia do dataset inteiro\n",
    "HX = get_entropy(X)\n",
    "HX"
   ]
  },
  {
   "cell_type": "code",
   "execution_count": 130,
   "metadata": {},
   "outputs": [
    {
     "name": "stdout",
     "output_type": "stream",
     "text": [
      "Entropia(outlook) = 0.6935361388961918\n",
      "Entropia(temperature) = 0.9389462162661897\n",
      "Entropia(humidity) = 0.8380423950607804\n",
      "Entropia(windy) = 0.8921589282623617\n",
      "\n",
      "GI(outlook) = 0.2467498197744391\n",
      "GI(temperature) = 0.0013397424044412354\n",
      "GI(humidity) = 0.10224356360985054\n",
      "GI(windy) = 0.04812703040826927\n"
     ]
    }
   ],
   "source": [
    "print('Entropia(outlook) = {}'.format(get_entropy_attrib('outlook',X)))\n",
    "print('Entropia(temperature) = {}'.format(get_entropy_attrib('temperature',X)))\n",
    "print('Entropia(humidity) = {}'.format(get_entropy_attrib('humidity',X)))\n",
    "print('Entropia(windy) = {}'.format(get_entropy_attrib('windy',X)))\n",
    "print('')\n",
    "print('GI(outlook) = {}'.format(HX - get_entropy_attrib('outlook',X)))\n",
    "print('GI(temperature) = {}'.format(HX - get_entropy_attrib('temperature',X)))\n",
    "print('GI(humidity) = {}'.format(HX - get_entropy_attrib('humidity',X)))\n",
    "print('GI(windy) = {}'.format(HX - get_entropy_attrib('windy',X)))\n"
   ]
  },
  {
   "cell_type": "code",
   "execution_count": 95,
   "metadata": {},
   "outputs": [
    {
     "data": {
      "text/plain": [
       "{'outlook': {}}"
      ]
     },
     "execution_count": 95,
     "metadata": {},
     "output_type": "execute_result"
    }
   ],
   "source": [
    "arvore['outlook'] = {}\n",
    "arvore"
   ]
  },
  {
   "cell_type": "markdown",
   "metadata": {},
   "source": [
    "# Os possíveis valores para o atributo OUTLOOK são: sunny, overcast e ranny \n",
    "## Comecei pelo sunny pois é o primeiro valor que aparece no dataset"
   ]
  },
  {
   "cell_type": "code",
   "execution_count": 96,
   "metadata": {
    "collapsed": true
   },
   "outputs": [],
   "source": [
    "def obter_subconjunto(index, valor, conjunto):\n",
    "    sub_conjunto = [linha for linha in conjunto if linha[index] == valor]\n",
    "    return sub_conjunto"
   ]
  },
  {
   "cell_type": "code",
   "execution_count": 104,
   "metadata": {},
   "outputs": [
    {
     "data": {
      "text/plain": [
       "array([['sunny', 'maior', 'maior', 'false', 'no'],\n",
       "       ['sunny', 'maior', 'maior', 'true', 'no'],\n",
       "       ['sunny', 'menor', 'maior', 'false', 'no'],\n",
       "       ['sunny', 'menor', 'menor', 'false', 'yes'],\n",
       "       ['sunny', 'maior', 'menor', 'true', 'yes']],\n",
       "      dtype='<U8')"
      ]
     },
     "execution_count": 104,
     "metadata": {},
     "output_type": "execute_result"
    }
   ],
   "source": [
    "# Obter novo sub-conjuto\n",
    "x1 = np.array(obter_subconjunto(0,'sunny',X))\n",
    "x1"
   ]
  },
  {
   "cell_type": "code",
   "execution_count": 132,
   "metadata": {},
   "outputs": [
    {
     "name": "stdout",
     "output_type": "stream",
     "text": [
      "Entropia(temperature) = 0.9509775004326937\n",
      "Entropia(humidity) = 0.0\n",
      "Entropia(windy) = 0.9509775004326937\n",
      "\n",
      "GI(windy) = 0.07879166619230693\n",
      "GI(temperature) = 0.0320043781884789\n",
      "GI(humidity) = 0.1329081993938882\n"
     ]
    }
   ],
   "source": [
    "# calcular a entropia do subconjunto SUNNY\n",
    "HX = get_entropy(x1)\n",
    "print('Entropia(temperature) = {}'.format(get_entropy_attrib('temperature',x1)))\n",
    "print('Entropia(humidity) = {}'.format(get_entropy_attrib('humidity', x1)))\n",
    "print('Entropia(windy) = {}'.format(get_entropy_attrib('windy', x1)))\n",
    "\n",
    "print('')\n",
    "\n",
    "print('GI(windy) = {}'.format(HX - get_entropy_attrib('windy',X)))\n",
    "print('GI(temperature) = {}'.format(HX - get_entropy_attrib('temperature',X)))\n",
    "print('GI(humidity) = {}'.format(HX - get_entropy_attrib('humidity',X)))"
   ]
  },
  {
   "cell_type": "code",
   "execution_count": 147,
   "metadata": {},
   "outputs": [
    {
     "data": {
      "text/plain": [
       "{'outlook': {'sunny': {'humidity': ''}}}"
      ]
     },
     "execution_count": 147,
     "metadata": {},
     "output_type": "execute_result"
    }
   ],
   "source": [
    "arvore['outlook'] = {'sunny': {'humidity':''}}\n",
    "arvore\n",
    "#import json\n",
    "#json.dumps(arvore, ensure_ascii=False)"
   ]
  },
  {
   "cell_type": "markdown",
   "metadata": {},
   "source": [
    "# Os possíveis valores para o atributo HUMIDITY são: menor que média e maior que a média\n",
    "## Comecei pelo maior pois é o primeiro valor que aparece no dataset"
   ]
  },
  {
   "cell_type": "code",
   "execution_count": 154,
   "metadata": {},
   "outputs": [
    {
     "data": {
      "text/plain": [
       "array([['sunny', 'maior', 'maior', 'false', 'no'],\n",
       "       ['sunny', 'maior', 'maior', 'true', 'no'],\n",
       "       ['sunny', 'menor', 'maior', 'false', 'no']],\n",
       "      dtype='<U8')"
      ]
     },
     "execution_count": 154,
     "metadata": {},
     "output_type": "execute_result"
    }
   ],
   "source": [
    "x2 = np.array(obter_subconjunto(2, 'maior', x1))\n",
    "x2"
   ]
  },
  {
   "cell_type": "code",
   "execution_count": 171,
   "metadata": {},
   "outputs": [
    {
     "name": "stdout",
     "output_type": "stream",
     "text": [
      "0.0\n",
      "Entropia(temperature) = 0.0\n",
      "Entropia(windy) = 0.0\n",
      "\n",
      "GI(windy) = 0.0\n",
      "GI(temperature) = 0.0\n"
     ]
    }
   ],
   "source": [
    "HX = get_entropy(x2)\n",
    "print(HX)\n",
    "print('Entropia(temperature) = {}'.format(get_entropy_attrib('temperature',x2)))\n",
    "print('Entropia(windy) = {}'.format(get_entropy_attrib('windy', x2)))\n",
    "\n",
    "print('')\n",
    "\n",
    "print('GI(windy) = {}'.format(HX - get_entropy_attrib('windy',x2)))\n",
    "print('GI(temperature) = {}'.format(HX - get_entropy_attrib('temperature',x2)))\n"
   ]
  },
  {
   "cell_type": "markdown",
   "metadata": {},
   "source": [
    "### A entropia do subconjunto x2 é zero, portanto chegamos à condição de parada da recursão.\n",
    "### Assim, quando a humidade for maior que a média a folha é NO, e quando for menor que a média a folha é YES."
   ]
  },
  {
   "cell_type": "code",
   "execution_count": 172,
   "metadata": {},
   "outputs": [
    {
     "data": {
      "text/plain": [
       "{'outlook': {'sunny': {'humidity': {'maior': 'NO', 'menor': 'YES'}}}}"
      ]
     },
     "execution_count": 172,
     "metadata": {},
     "output_type": "execute_result"
    }
   ],
   "source": [
    "arvore['outlook'] = {'sunny': {'humidity':{'maior':'NO', 'menor':'YES'}}}\n",
    "arvore"
   ]
  },
  {
   "cell_type": "code",
   "execution_count": 173,
   "metadata": {},
   "outputs": [
    {
     "data": {
      "text/plain": [
       "array([['overcast', 'maior', 'menor', 'false', 'yes'],\n",
       "       ['overcast', 'menor', 'menor', 'true', 'yes'],\n",
       "       ['overcast', 'menor', 'maior', 'true', 'yes'],\n",
       "       ['overcast', 'maior', 'menor', 'false', 'yes']],\n",
       "      dtype='<U8')"
      ]
     },
     "execution_count": 173,
     "metadata": {},
     "output_type": "execute_result"
    }
   ],
   "source": [
    "# Obter novo sub-conjuto\n",
    "x1 = np.array(obter_subconjunto(0,'overcast',X))\n",
    "x1"
   ]
  },
  {
   "cell_type": "code",
   "execution_count": 174,
   "metadata": {},
   "outputs": [
    {
     "name": "stdout",
     "output_type": "stream",
     "text": [
      "0.0\n",
      "Entropia(temperature) = 0.0\n",
      "Entropia(windy) = 0.0\n",
      "\n",
      "GI(windy) = 0.0\n",
      "GI(temperature) = 0.0\n"
     ]
    }
   ],
   "source": [
    "# calcular a entropia do subconjunto OVERCAST\n",
    "HX = get_entropy(x1)\n",
    "print(HX)\n",
    "print('Entropia(temperature) = {}'.format(get_entropy_attrib('temperature',x1)))\n",
    "print('Entropia(windy) = {}'.format(get_entropy_attrib('windy', x1)))\n",
    "\n",
    "print('')\n",
    "\n",
    "print('GI(windy) = {}'.format(HX - get_entropy_attrib('windy',x1)))\n",
    "print('GI(temperature) = {}'.format(HX - get_entropy_attrib('temperature',x1)))"
   ]
  },
  {
   "cell_type": "code",
   "execution_count": 175,
   "metadata": {},
   "outputs": [
    {
     "data": {
      "text/plain": [
       "{'outlook': {'overcast': 'yes',\n",
       "  'sunny': {'humidity': {'maior': 'NO', 'menor': 'YES'}}}}"
      ]
     },
     "execution_count": 175,
     "metadata": {},
     "output_type": "execute_result"
    }
   ],
   "source": [
    "# A entropia de overcast é zero, logo o únivo valor dele é YES\n",
    "arvore['outlook'] = {'sunny': {'humidity':{'maior':'NO', 'menor':'YES'}},\n",
    "                    'overcast':'yes'}\n",
    "arvore\n"
   ]
  },
  {
   "cell_type": "code",
   "execution_count": 180,
   "metadata": {},
   "outputs": [
    {
     "data": {
      "text/plain": [
       "array([['ranny', 'menor', 'maior', 'false', 'yes'],\n",
       "       ['ranny', 'menor', 'menor', 'false', 'yes'],\n",
       "       ['ranny', 'menor', 'menor', 'true', 'no'],\n",
       "       ['ranny', 'maior', 'menor', 'false', 'yes'],\n",
       "       ['ranny', 'menor', 'menor', 'true', 'no']],\n",
       "      dtype='<U8')"
      ]
     },
     "execution_count": 180,
     "metadata": {},
     "output_type": "execute_result"
    }
   ],
   "source": [
    "# Obter novo sub-conjuto\n",
    "x1 = np.array(obter_subconjunto(0,'ranny',X))\n",
    "x1"
   ]
  },
  {
   "cell_type": "code",
   "execution_count": 181,
   "metadata": {},
   "outputs": [
    {
     "name": "stdout",
     "output_type": "stream",
     "text": [
      "Entropia = 0.9709505944546686\n",
      "Entropia(temperature) = 0.8\n",
      "Entropia(windy) = 0.0\n",
      "\n",
      "GI(windy) = 0.9709505944546686\n",
      "GI(temperature) = 0.17095059445466854\n"
     ]
    }
   ],
   "source": [
    "# calcular a entropia do subconjunto RANNY\n",
    "HX = get_entropy(x1)\n",
    "print('Entropia = {}'.format(HX))\n",
    "print('Entropia(temperature) = {}'.format(get_entropy_attrib('temperature',x1)))\n",
    "print('Entropia(windy) = {}'.format(get_entropy_attrib('windy', x1)))\n",
    "\n",
    "print('')\n",
    "\n",
    "print('GI(windy) = {}'.format(HX - get_entropy_attrib('windy',x1)))\n",
    "print('GI(temperature) = {}'.format(HX - get_entropy_attrib('temperature',x1)))"
   ]
  },
  {
   "cell_type": "code",
   "execution_count": 182,
   "metadata": {},
   "outputs": [
    {
     "data": {
      "text/plain": [
       "{'outlook': {'overcast': 'yes',\n",
       "  'ranny': {'windy': ''},\n",
       "  'sunny': {'humidity': {'maior': 'NO', 'menor': 'YES'}}}}"
      ]
     },
     "execution_count": 182,
     "metadata": {},
     "output_type": "execute_result"
    }
   ],
   "source": [
    "# A entropia de overcast é zero, logo o únivo valor dele é YES\n",
    "arvore['outlook'] = {'sunny': {'humidity':{'maior':'NO', 'menor':'YES'}},\n",
    "                    'overcast':'yes',\n",
    "                    'ranny':{'windy':''}}\n",
    "arvore\n"
   ]
  },
  {
   "cell_type": "code",
   "execution_count": 183,
   "metadata": {
    "collapsed": true
   },
   "outputs": [],
   "source": [
    "# Para false e tru do atributo WINDY"
   ]
  },
  {
   "cell_type": "code",
   "execution_count": 185,
   "metadata": {},
   "outputs": [
    {
     "data": {
      "text/plain": [
       "array([['ranny', 'menor', 'maior', 'false', 'yes'],\n",
       "       ['ranny', 'menor', 'menor', 'false', 'yes'],\n",
       "       ['ranny', 'maior', 'menor', 'false', 'yes']],\n",
       "      dtype='<U8')"
      ]
     },
     "execution_count": 185,
     "metadata": {},
     "output_type": "execute_result"
    }
   ],
   "source": [
    "# Obter novo sub-conjuto\n",
    "x2 = np.array(obter_subconjunto(3,'false',x1))\n",
    "x2"
   ]
  },
  {
   "cell_type": "code",
   "execution_count": 186,
   "metadata": {},
   "outputs": [
    {
     "name": "stdout",
     "output_type": "stream",
     "text": [
      "Entropia = 0.0\n",
      "Entropia(temperature) = 0.0\n",
      "Entropia(windy) = 0.0\n",
      "\n",
      "GI(windy) = 0.0\n",
      "GI(temperature) = 0.0\n"
     ]
    }
   ],
   "source": [
    "# calcular a entropia do subconjunto RANNY\n",
    "HX = get_entropy(x2)\n",
    "print('Entropia = {}'.format(HX))\n",
    "print('Entropia(temperature) = {}'.format(get_entropy_attrib('temperature',x2)))\n",
    "print('Entropia(windy) = {}'.format(get_entropy_attrib('windy', x2)))\n",
    "\n",
    "print('')\n",
    "\n",
    "print('GI(windy) = {}'.format(HX - get_entropy_attrib('windy',x2)))\n",
    "print('GI(temperature) = {}'.format(HX - get_entropy_attrib('temperature',x2)))"
   ]
  },
  {
   "cell_type": "code",
   "execution_count": 190,
   "metadata": {},
   "outputs": [
    {
     "data": {
      "text/plain": [
       "{'outlook': {'overcast': 'yes',\n",
       "  'ranny': {'windy': {'false': 'YES', 'true': 'NO'}},\n",
       "  'sunny': {'humidity': {'maior': 'NO', 'menor': 'YES'}}}}"
      ]
     },
     "execution_count": 190,
     "metadata": {},
     "output_type": "execute_result"
    }
   ],
   "source": [
    "# Entropia é zero\n",
    "# A entropia de overcast é zero, logo o únivo valor dele é YES\n",
    "arvore['outlook'] = {\n",
    "    'sunny': {\n",
    "        'humidity':{\n",
    "            'maior':'NO', \n",
    "            'menor':'YES'}},            \n",
    "    'overcast':'yes',        \n",
    "    'ranny':{\n",
    "        'windy':{\n",
    "            'false': 'YES',\n",
    "            'true':'NO'}}}\n",
    "arvore"
   ]
  }
 ],
 "metadata": {
  "kernelspec": {
   "display_name": "Python 3",
   "language": "python",
   "name": "python3"
  },
  "language_info": {
   "codemirror_mode": {
    "name": "ipython",
    "version": 3
   },
   "file_extension": ".py",
   "mimetype": "text/x-python",
   "name": "python",
   "nbconvert_exporter": "python",
   "pygments_lexer": "ipython3",
   "version": "3.6.3"
  }
 },
 "nbformat": 4,
 "nbformat_minor": 2
}
